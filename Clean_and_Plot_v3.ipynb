{
 "cells": [
  {
   "cell_type": "code",
   "execution_count": 1,
   "id": "6c6ad0d8",
   "metadata": {
    "jupyter": {
     "outputs_hidden": false
    }
   },
   "outputs": [],
   "source": [
    "import os\n",
    "import pandas as pd\n",
    "import numpy as np\n",
    "import matplotlib.pyplot as plt\n",
    "import matplotlib\n",
    "matplotlib.rcParams['svg.fonttype'] = 'none'\n",
    "from collections import OrderedDict\n",
    "%matplotlib inline\n"
   ]
  },
  {
   "cell_type": "code",
   "execution_count": 2,
   "id": "0b56eee4",
   "metadata": {
    "jupyter": {
     "outputs_hidden": false
    }
   },
   "outputs": [
    {
     "data": {
      "image/png": "[encoded data removed]",
      "text/plain": [
       "<Figure size 432x288 with 1 Axes>"
      ]
     },
     "metadata": {
      "needs_background": "light"
     },
     "output_type": "display_data"
    }
   ],
   "source": [
    "colors = {\n",
    "\"M0\"\t:\t(170./255,170./255,170./255),\n",
    "\"M1\"\t:\t(0/255,255./255,255./255),\n",
    "\"M2a\"\t:\t(0/255,0/255,255./255),\n",
    "\"M2b\"\t:\t(138./255,43./255,226./255),\n",
    "\"M2c\"\t:\t(156./255,102./255,31./255),\n",
    "\"M2d\"\t:\t(139./255,35./255,35./255),\n",
    "\"M2aM2cM2d\"\t:\t(255./255,97./255,3./255),\n",
    "\"M1M2bM2cM2d\"\t:\t(69./255,139./255,0./255),\n",
    "\"M2cM2d\"\t:\t(220./255,20./255,60./255),\n",
    "\"M1M2bM2d\"\t:\t(255./255,185./255,15./255),\n",
    "\"M2aM2d\"\t:\t(255./255,215./255,0./255),\n",
    "\"M2aM2bM2d\"\t:\t(139./255,95./255,101./255),\n",
    "\"M2bM2d\"\t:\t(128./255,0./255,0./255),\n",
    "\"M1M2b\"\t:\t(60./255,179./255,113./255),\n",
    "\"M1M2d\"\t:\t(25./255,25./255,112./255),\n",
    "\"NoLabel\"\t:\t(255./255,225./255,255./255)\n",
    "\n",
    "            }\n",
    "\n",
    "colors = OrderedDict(sorted(colors.items(), key=lambda t: t[0]))\n",
    "\n",
    "\n",
    "plt.bar(range(len(colors)), [1]*len(colors), color=colors.values() )\n",
    "plt.xticks(np.arange(0.5,len(colors)+.5,1), list(colors.keys()), rotation='vertical')\n",
    "plt.savefig('ColorCode.svg')\n",
    "plt.show()"
   ]
  },
  {
   "cell_type": "code",
   "execution_count": 3,
   "id": "1f885561",
   "metadata": {
    "jupyter": {
     "outputs_hidden": false
    }
   },
   "outputs": [],
   "source": [
    "def labelState(x):\n",
    "    #x = [STAT3,SMAD23,STAT6,SOCS1,TLR4,NFKB,STAT1,SOCS3,AP1,IL10,TNFA,  TGFB,  Fra1, HIF1A, ERK,  IL4e, IL10e, TNFAe, TGFBe,  IgG,   A2a,   IFNG,  IFNB,  IL1B,  IL6e,  MCSF,   GMCSF,  Hipoxia,  GCGCR] \n",
    "    #x    x[0]   x[1]   x[2]  x[3] x[4]  x[5] x[6]  x[7] x[8] x[9] x[10] x[11]  x[12] x[13]  x[14] x[15] x[16]  x[17]   x[18]  x[19]  x[20]  x[21]  x[22]  x[23]  x[24]  x[25]   x[26]   x[27]     x[28]\n",
    "    label = ''\n",
    "    feno = ''\n",
    "    fl = 0\n",
    "    if (x[0]<=0.25) and (x[2]<=0.25) and (x[5]<=0.25) and (x[6]<=0.25) and (x[8]<=0.25) and (x[12]<=0.25) and (x[13]<=0.25) and (x[14]<=0.25): \n",
    "        label = (\"M0\")\n",
    "        fl += 1\n",
    "        feno += label\n",
    "        feno += '-'\n",
    "########### \n",
    "    if (x[2]>=.75) and (((x[23]>=.75) and (x[8]>=0.75)) or (x[14]>=0.75)) and (((x[4]>=0.75) and (x[20]>=0.75)) or ((x[12]>=0.75) and (x[8]>=0.75)) or (x[13]>=0.75) or (x[12]>=0.75)):\n",
    "            label = (\"M2aM2bM2d\")\n",
    "            fl += 1\n",
    "            feno += label\n",
    "            feno += '-'\n",
    "    else:\n",
    "        if (x[2]>=.75) and (x[0]>=.75) and (((x[4]>=0.75) and (x[20]>=0.75)) or ((x[12]>=0.75) and (x[8]>=0.75)) or (x[13]>=0.75) or (x[12]>=0.75)):\n",
    "            label = (\"M2aM2cM2d\")\n",
    "            fl += 1\n",
    "            feno += label\n",
    "            feno += '-'\n",
    "        elif (x[0]>=.75) and (((x[4]>=0.75) and (x[20]>=0.75)) or ((x[12]>=0.75) and (x[8]>=0.75)) or (x[13]>=0.75) or (x[12]>=0.75)):\n",
    "            label = (\"M2cM2d\")\n",
    "            fl += 1\n",
    "            feno += label\n",
    "            feno += '-'\n",
    "        elif (x[2]>=.75) and (((x[4]>=0.75) and (x[20]>=0.75)) or ((x[12]>=0.75) and (x[8]>=0.75)) or (x[13]>=0.75) or (x[12]>=0.75)):\n",
    "            label = (\"M2aM2d\")\n",
    "            fl += 1\n",
    "            feno += label\n",
    "            feno += '-'\n",
    "        elif (x[2]>=.75):\n",
    "            label = (\"M2a\")\n",
    "            fl += 1\n",
    "            feno += label\n",
    "            feno += '-'\n",
    "        elif (x[0]>=.75):\n",
    "            label = (\"M2c\")\n",
    "            fl += 1\n",
    "            feno += label\n",
    "            feno += '-'\n",
    "        elif ((x[4]>=0.75) and (x[20]>=0.75)) or ((x[12]>=0.75) and (x[8]>=0.75)) or (x[13]>=0.75) or (x[12]>=0.75):\n",
    "            label = (\"M2d\")\n",
    "            fl += 1\n",
    "            feno += label\n",
    "            feno += '-'\n",
    "        else:\n",
    "            if ((x[5]>=0.75) or (x[6]>=0.75) or ((x[10]>=0.75) and (x[8]>=0.75)) or ((x[17]>=0.75) and (x[8]>=0.75))) and (((x[23]>=.75) and (x[8]>=0.75)) or (x[14]>=0.75)) and (x[0]>=.75) and (((x[4]>=0.75) and (x[20]>=0.75)) or ((x[12]>=0.75) and (x[8]>=0.75)) or (x[13]>=0.75) or (x[12]>=0.75)):\n",
    "                label = (\"M1M2bM2cM2d\")\n",
    "                fl += 1\n",
    "                feno += label\n",
    "                feno += '-'\n",
    "            elif ((x[5]>=0.75) or (x[6]>=0.75) or ((x[10]>=0.75) and (x[8]>=0.75)) or ((x[17]>=0.75) and (x[8]>=0.75))) and (((x[23]>=.75) and (x[8]>=0.75)) or (x[14]>=0.75)) and (((x[4]>=0.75) and (x[20]>=0.75)) or ((x[12]>=0.75) and (x[8]>=0.75)) or (x[13]>=0.75) or (x[12]>=0.75)):\n",
    "                label = (\"M1M2bM2d\")\n",
    "                fl += 1\n",
    "                feno += label\n",
    "                feno += '-'\n",
    "            elif ((x[5]>=0.75) or (x[6]>=0.75) or ((x[10]>=0.75) and (x[8]>=0.75)) or ((x[17]>=0.75) and (x[8]>=0.75))) and (((x[23]>=.75) and (x[8]>=0.75)) or (x[14]>=0.75)):\n",
    "                label = (\"M1M2b\")\n",
    "                fl += 1\n",
    "                feno += label\n",
    "                feno += '-'\n",
    "            elif ((x[5]>=0.75) or (x[6]>=0.75) or ((x[10]>=0.75) and (x[8]>=0.75)) or ((x[17]>=0.75) and (x[8]>=0.75))) and (((x[4]>=0.75) and (x[20]>=0.75)) or ((x[12]>=0.75) and (x[8]>=0.75)) or (x[13]>=0.75) or (x[12]>=0.75)):\n",
    "                label = (\"M1M2d\")\n",
    "                fl += 1\n",
    "                feno += label\n",
    "                feno += '-'\n",
    "            elif (((x[23]>=.75) and (x[8]>=0.75)) or (x[14]>=0.75)) and (((x[4]>=0.75) and (x[20]>=0.75)) or ((x[12]>=0.75) and (x[8]>=0.75)) or (x[13]>=0.75) or (x[12]>=0.75)):\n",
    "                label = (\"M2bM2d\")\n",
    "                fl += 1\n",
    "                feno += label\n",
    "                feno += '-'\n",
    "            elif ((x[23]>=.75) and (x[8]>=0.75)) or (x[14]>=0.75): \n",
    "                label = (\"M2b\")\n",
    "                fl += 1\n",
    "                feno += label\n",
    "                feno += '-'\n",
    "            elif (x[5]>=0.75) or (x[6]>=0.75) or ((x[10]>=0.75) and (x[8]>=0.75)) or ((x[17]>=0.75) and (x[8]>=0.75)): \n",
    "                label = (\"M1\")\n",
    "                fl += 1\n",
    "                feno += label\n",
    "                feno += '-'\n",
    "############\n",
    "    if (label == \"\"): label = \"NoLabel\"\n",
    "#    print(feno,fl)\n",
    "    return label"
   ]
  },
  {
   "cell_type": "code",
   "execution_count": 4,
   "id": "40e188ed",
   "metadata": {},
   "outputs": [],
   "source": [
    "def label_simulation_csv(df):\n",
    "    df = pd.read_csv(name, index_col=0)\n",
    "    df[\"Label\"] = df.apply(labelState, axis=1)\n",
    "    name = name.replace(\"-A\",\"A\").replace(\"-B\",\"B\").replace(\"-C\",\"C\").replace(\"-\",\"_\").replace(\".csv\",\"\")\n",
    "    path = name.split(\"/\")[0] + \"/\"\n",
    "    name = name.split(\"/\")[1].split(\"_\")\n",
    "    name = \"_\".join([name[0], df[\"Label\"].iloc[0], df[\"Label\"].iloc[-1], name[-1]]) + \".csv\"\n",
    "    df.to_csv(path+'Clean/'+name)\n",
    "    return df\n"
   ]
  },
  {
   "cell_type": "code",
   "execution_count": 5,
   "id": "db388775",
   "metadata": {
    "jupyter": {
     "outputs_hidden": false
    }
   },
   "outputs": [],
   "source": [
    "def analyse_simulation_csv(path,name, threshold=.25, sep=','):\n",
    "    \"\"\"\n",
    "    Toma un csv con los resultados de la simulacion\n",
    "    Regresa:\n",
    "        * Entorno\n",
    "        * Etiqueta inicial\n",
    "        * Etiqueta final\n",
    "        * Nodo perturbado\n",
    "        * Transicion\n",
    "    En el nombre del archivo \n",
    "        * primero es el entorno, \n",
    "        * segundo el estado inicial, \n",
    "        * ultimo el gen perturbado\n",
    "    En el archivo:\n",
    "        * Primera fila genes\n",
    "        * Primera columna valor perturbado\n",
    "        * Penultima fila differencia con vector inicial\n",
    "        * Ultima fila etiqueta\n",
    "    Si el nodo modificado es un input (termina con e) al calcular la diferencia se ignora el gen modificado, \n",
    "        para compenzar el error de que su expresión es constante.\n",
    "        \"\"\"\n",
    "    df = pd.read_csv(path+\"/csv/\"+name, index_col=0)\n",
    "    env  = name.replace('.csv','').split('_')[0]\n",
    "    node = name.replace('.csv','').split('_')[-1]\n",
    "    # Clean and rewrite csv\n",
    "    if node[-1]=='e': #if node is an input ignore value of input, as it is constant\n",
    "        first_row = df.drop(node.split('+'), axis=1).iloc[[0]].values[0]\n",
    "        df[\"Sum\"] = df.drop(node.split('+'), axis=1).apply(lambda row: sum(abs(row - first_row)), axis=1)\n",
    "    else:\n",
    "        first_row = df.iloc[[0]].values[0]\n",
    "        df[\"Sum\"] = df.apply(lambda row: sum(abs(row - first_row)), axis=1)\n",
    "    df[\"Label\"] = df.apply(labelState, axis=1)\n",
    "    df.to_csv(path+\"/csv-clean/\"+name)\n",
    "    # Create output for TransitionTable file\n",
    "    init = df[\"Label\"].iloc[0]\n",
    "    final = df[\"Label\"].iloc[-1]\n",
    "    labels = set(df[\"Label\"].unique())\n",
    "    if len(labels) == 1: \n",
    "        transition = 'None'\n",
    "        labels = 1\n",
    "    else:\n",
    "        if \"NoLabel\" in labels: labels = len(labels) - 1\n",
    "        else: labels = len(labels)\n",
    "        first_row = df.drop('Label', axis=1).iloc[[0]].values[0]\n",
    "        df = df.set_index(np.arange(0,len(df),1))\n",
    "        df[\"Sum\"] = df.drop('Label', axis=1).apply(lambda row: sum(abs(row - first_row)), axis=1)\n",
    "        df[\"Diff\"] = df[\"Sum\"].diff().abs()\n",
    "        jumps = df.index[(df[\"Diff\"] >= threshold)]\n",
    "        if len(jumps) == 0: transition = 'Soft'\n",
    "        else: transition = 'Hard_' + str(len(jumps))    \n",
    "    return [env, init, final, node, transition, str(labels)]\n"
   ]
  },
  {
   "cell_type": "code",
   "execution_count": 6,
   "id": "9742a0ab",
   "metadata": {
    "jupyter": {
     "outputs_hidden": false
    },
    "scrolled": true
   },
   "outputs": [],
   "source": [
    "def plot_simulation_csv(path,name, colors, unique=True):\n",
    "    \n",
    "    df = pd.read_csv(path+\"/csv-clean/\"+name, index_col=0)\n",
    "    #print( name )\n",
    "    if unique and len(df[\"Label\"].unique()) > 1: return\n",
    "    #print(df[\"Label\"].unique())\n",
    "#    print( df[\"Label\"].map(colors))\n",
    "    df[\"Color\"] = df[\"Label\"].map(colors)\n",
    "    #df = df.iloc[::4, :] #select only some points\n",
    "    title = name.replace('.csv','')\n",
    "    fig = plt.figure()\n",
    "    plt.figure(figsize=(3,2))\n",
    "    #plt.xlabel(title.split('_')[-1])\n",
    "    plt.gcf().text(0.5, -0.1, title.split('_')[-1], fontsize=10,rotation=0)\n",
    "    plt.ylabel(\"Difference\")\n",
    "    plt.axis([-.1, 1.1, df[\"Sum\"].min()-.3, df[\"Sum\"].max()+.3])\n",
    "    plt.text(-0.05,df[\"Sum\"].min()+0,df[\"Label\"].iloc[0])\n",
    "    plt.text(1.1-len(df[\"Label\"].iloc[-1])*0.005,df[\"Sum\"].max()*.8,df[\"Label\"].iloc[-1],ha=\"right\")\n",
    "    plt.scatter(df.index, df.Sum, c=df.Color)\n",
    "    plt.savefig(path+\"/svg-color/\"+name.replace('.csv','.svg'))\n",
    "    plt.close()\n",
    "    #return df"
   ]
  },
  {
   "cell_type": "code",
   "execution_count": 15,
   "id": "ecf1d7bf",
   "metadata": {
    "jupyter": {
     "outputs_hidden": false
    }
   },
   "outputs": [
    {
     "name": "stdout",
     "output_type": "stream",
     "text": [
      "C:\\Users\\Lenovo\\Documents\\Python\n",
      "C:\\Users\\Lenovo\\Documents\\Python/Results-M2bM2d-env\n"
     ]
    }
   ],
   "source": [
    "path = os.getcwd()\n",
    "print(path)\n",
    "folder = \"Results-M2bM2d-env\"\n",
    "path = path+\"/\"+folder\n",
    "print(path)"
   ]
  },
  {
   "cell_type": "code",
   "execution_count": 16,
   "id": "da43f136",
   "metadata": {
    "jupyter": {
     "outputs_hidden": false
    }
   },
   "outputs": [
    {
     "data": {
      "text/plain": [
       "78"
      ]
     },
     "execution_count": 16,
     "metadata": {},
     "output_type": "execute_result"
    }
   ],
   "source": [
    "#path = \".\"\n",
    "f = open(path +'/TransitionTable.csv','w')\n",
    "f.write(\"Environment,Init label, Final label, Perturbed node, Transition,Number labels\\n\")"
   ]
  },
  {
   "cell_type": "code",
   "execution_count": 19,
   "id": "241ecad6",
   "metadata": {
    "jupyter": {
     "outputs_hidden": false
    }
   },
   "outputs": [
    {
     "data": {
      "text/plain": [
       "['M2bM2dProb_A2a+Hipoxia+GCGCR.csv',\n",
       " 'M2bM2dProb_IFNG+IFNB.csv',\n",
       " 'M2bM2dProb_IgG+GCGCR.csv',\n",
       " 'M2bM2dProb_IL10e+IL6e+MCSF.csv',\n",
       " 'M2bM2dProb_IL1B+TNFAe.csv',\n",
       " 'M2bM2dProb_IL4e+TGFBe.csv']"
      ]
     },
     "execution_count": 19,
     "metadata": {},
     "output_type": "execute_result"
    }
   ],
   "source": [
    "os.listdir(path+\"/csv\")"
   ]
  },
  {
   "cell_type": "code",
   "execution_count": 20,
   "id": "0bfd7d23",
   "metadata": {
    "jupyter": {
     "outputs_hidden": false
    },
    "scrolled": false
   },
   "outputs": [
    {
     "name": "stdout",
     "output_type": "stream",
     "text": [
      "M2bM2dProb_A2a+Hipoxia+GCGCR.csv\n",
      "M2bM2dProb_IFNG+IFNB.csv\n",
      "M2bM2dProb_IgG+GCGCR.csv\n",
      "M2bM2dProb_IL10e+IL6e+MCSF.csv\n",
      "M2bM2dProb_IL1B+TNFAe.csv\n",
      "M2bM2dProb_IL4e+TGFBe.csv\n"
     ]
    },
    {
     "data": {
      "text/plain": [
       "<Figure size 432x288 with 0 Axes>"
      ]
     },
     "metadata": {},
     "output_type": "display_data"
    },
    {
     "data": {
      "text/plain": [
       "<Figure size 432x288 with 0 Axes>"
      ]
     },
     "metadata": {},
     "output_type": "display_data"
    },
    {
     "data": {
      "text/plain": [
       "<Figure size 432x288 with 0 Axes>"
      ]
     },
     "metadata": {},
     "output_type": "display_data"
    },
    {
     "data": {
      "text/plain": [
       "<Figure size 432x288 with 0 Axes>"
      ]
     },
     "metadata": {},
     "output_type": "display_data"
    },
    {
     "data": {
      "text/plain": [
       "<Figure size 432x288 with 0 Axes>"
      ]
     },
     "metadata": {},
     "output_type": "display_data"
    },
    {
     "data": {
      "text/plain": [
       "<Figure size 432x288 with 0 Axes>"
      ]
     },
     "metadata": {},
     "output_type": "display_data"
    }
   ],
   "source": [
    "for file in os.listdir(path+\"/csv\"):\n",
    "    print(file)\n",
    "    if not os.path.exists(path+\"/csv-clean\"): os.makedirs(path+\"/csv-clean\")\n",
    "    f.write( ','.join( analyse_simulation_csv(path,file) )+'\\n' )\n",
    "    if not os.path.exists(path+\"/svg-color\"): os.makedirs(path+\"/svg-color\")\n",
    "    plot_simulation_csv(path,file, colors, unique=False)\n"
   ]
  },
  {
   "cell_type": "markdown",
   "id": "e1c9e24e",
   "metadata": {},
   "source": []
  },
  {
   "cell_type": "code",
   "execution_count": null,
   "id": "3dfe152c",
   "metadata": {},
   "outputs": [],
   "source": []
  }
 ],
 "metadata": {
  "kernelspec": {
   "display_name": "Python 3 (ipykernel)",
   "language": "python",
   "name": "python3"
  },
  "language_info": {
   "codemirror_mode": {
    "name": "ipython",
    "version": 3
   },
   "file_extension": ".py",
   "mimetype": "text/x-python",
   "name": "python",
   "nbconvert_exporter": "python",
   "pygments_lexer": "ipython3",
   "version": "3.8.6"
  }
 },
 "nbformat": 4,
 "nbformat_minor": 5
}
