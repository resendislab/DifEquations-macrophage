{
 "cells": [
  {
   "cell_type": "markdown",
   "metadata": {},
   "source": [
    "# Label and color"
   ]
  },
  {
   "cell_type": "markdown",
   "metadata": {},
   "source": [
    "colors = { \"M0\":\"#c0c0c0\", \"M1\":\"#ff7f00\", \"M1a\":\"#fdbf6f\", \n",
    "         \"M2a\":\"#33a02c\", \"M2b\":\"#ffff99\", \"M2c+\":\"#b2df8a\", \n",
    "         \"M2c\":\"#e53d3f\", \"M2d\":\"#1f78b4\", \"IL10+\":\"#a6cee3\",\n",
    "         \"TGFB+\":\"#fb9a99\", \n",
    "        }\n",
    "for k, v in colors.items():\n",
    "    print( k, tuple(c for c in bytes.fromhex(v[1:])) )"
   ]
  },
  {
   "cell_type": "code",
   "execution_count": 1,
   "metadata": {},
   "outputs": [],
   "source": [
    "import pandas as pd\n",
    "import os\n",
    "import numpy as np\n",
    "import matplotlib.pyplot as plt\n",
    "from mpl_toolkits.mplot3d import Axes3D\n",
    "from matplotlib.colors import BoundaryNorm\n",
    "from matplotlib.ticker import MaxNLocator\n",
    "import matplotlib.patches as mpatches\n",
    "from random import sample\n",
    "from matplotlib import cm\n",
    "import matplotlib\n",
    "from math import sqrt,ceil\n",
    "matplotlib.rcParams['svg.fonttype'] = 'none'\n",
    "from collections import OrderedDict\n",
    "from itertools import product\n",
    "\n",
    "#%matplotlib inline"
   ]
  },
  {
   "cell_type": "code",
   "execution_count": 2,
   "metadata": {},
   "outputs": [
    {
     "data": {
      "image/png": "[encoded data removed]",
      "text/plain": [
       "<Figure size 432x288 with 1 Axes>"
      ]
     },
     "metadata": {
      "needs_background": "light"
     },
     "output_type": "display_data"
    }
   ],
   "source": [
    "colors = {\n",
    "\"M0\"\t:\t(170./255,170./255,170./255),\n",
    "\"M1\"\t:\t(0/255,255./255,255./255),\n",
    "\"M2a\"\t:\t(0/255,0/255,255./255),\n",
    "\"M2b\"\t:\t(138./255,43./255,226./255),\n",
    "\"M2c\"\t:\t(156./255,102./255,31./255),\n",
    "\"M2d\"\t:\t(139./255,35./255,35./255),\n",
    "\"M2aM2cM2d\"\t:\t(255./255,97./255,3./255),\n",
    "\"M1M2bM2cM2d\"\t:\t(69./255,139./255,0./255),\n",
    "\"M2cM2d\"\t:\t(220./255,20./255,60./255),\n",
    "\"M1M2bM2d\"\t:\t(255./255,185./255,15./255),\n",
    "\"M2aM2d\"\t:\t(255./255,215./255,0./255),\n",
    "\"M2aM2bM2d\"\t:\t(139./255,95./255,101./255),\n",
    "\"M2bM2d\"\t:\t(128./255,0./255,0./255),\n",
    "\"M1M2b\"\t:\t(60./255,179./255,113./255),\n",
    "\"M1M2d\"\t:\t(25./255,25./255,112./255),\n",
    "\"NoLabel\"\t:\t(255./255,225./255,255./255)\n",
    "\n",
    "            }\n",
    "\n",
    "colors = OrderedDict(sorted(colors.items(), key=lambda t: t[0]))\n",
    "\n",
    "\n",
    "plt.bar(range(len(colors)), [1]*len(colors), color=colors.values(), align=\"edge\" )\n",
    "plt.xticks(np.arange(0.5,len(colors)+.5,1), list(colors.keys()), rotation='vertical')\n",
    "#plt.savefig('ColorCode.svg')\n",
    "plt.show()"
   ]
  },
  {
   "cell_type": "code",
   "execution_count": 3,
   "metadata": {},
   "outputs": [],
   "source": [
    "def labelState(x):\n",
    "    #x = [STAT3,SMAD23,STAT6,SOCS1,TLR4,NFKB,STAT1,SOCS3,AP1,IL10,TNFA,TGFB,Fra1,HIF1A,ERK,IL4e,IL10e,TNFAe,TGFBe,IgG,A2a,IFNG,IFNB,IL1B,IL6e,MCSF,GMCSF,Hipoxia,GCGCR]\n",
    "    label = ''\n",
    "    feno = ''\n",
    "    fl = 0\n",
    "    if (x[0]<=0.25) and (x[2]<=0.25) and (x[5]<=0.25) and (x[6]<=0.25) and (x[8]<=0.25) and (x[12]<=0.25) and (x[13]<=0.25) and (x[14]<=0.25): \n",
    "        label = (\"M0\")\n",
    "        fl += 1\n",
    "        feno += label\n",
    "        feno += '-'\n",
    "########### \n",
    "    if (x[2]>=.75) and (((x[23]>=.75) and (x[8]>=0.75)) or (x[14]>=0.75)) and (((x[4]>=0.75) and (x[20]>=0.75)) or ((x[12]>=0.75) and (x[8]>=0.75)) or (x[13]>=0.75) or (x[12]>=0.75)):\n",
    "            label = (\"M2aM2bM2d\")\n",
    "            fl += 1\n",
    "            feno += label\n",
    "            feno += '-'\n",
    "    else:\n",
    "        if (x[2]>=.75) and (x[0]>=.75) and (((x[4]>=0.75) and (x[20]>=0.75)) or ((x[12]>=0.75) and (x[8]>=0.75)) or (x[13]>=0.75) or (x[12]>=0.75)):\n",
    "            label = (\"M2aM2cM2d\")\n",
    "            fl += 1\n",
    "            feno += label\n",
    "            feno += '-'\n",
    "        elif (x[0]>=.75) and (((x[4]>=0.75) and (x[20]>=0.75)) or ((x[12]>=0.75) and (x[8]>=0.75)) or (x[13]>=0.75) or (x[12]>=0.75)):\n",
    "            label = (\"M2cM2d\")\n",
    "            fl += 1\n",
    "            feno += label\n",
    "            feno += '-'\n",
    "        elif (x[2]>=.75) and (((x[4]>=0.75) and (x[20]>=0.75)) or ((x[12]>=0.75) and (x[8]>=0.75)) or (x[13]>=0.75) or (x[12]>=0.75)):\n",
    "            label = (\"M2aM2d\")\n",
    "            fl += 1\n",
    "            feno += label\n",
    "            feno += '-'\n",
    "        elif (x[2]>=.75):\n",
    "            label = (\"M2a\")\n",
    "            fl += 1\n",
    "            feno += label\n",
    "            feno += '-'\n",
    "        elif (x[0]>=.75):\n",
    "            label = (\"M2c\")\n",
    "            fl += 1\n",
    "            feno += label\n",
    "            feno += '-'\n",
    "        elif ((x[4]>=0.75) and (x[20]>=0.75)) or ((x[12]>=0.75) and (x[8]>=0.75)) or (x[13]>=0.75) or (x[12]>=0.75):\n",
    "            label = (\"M2d\")\n",
    "            fl += 1\n",
    "            feno += label\n",
    "            feno += '-'\n",
    "        else:\n",
    "            if ((x[5]>=0.75) or (x[6]>=0.75) or ((x[10]>=0.75) and (x[8]>=0.75)) or ((x[17]>=0.75) and (x[8]>=0.75))) and (((x[23]>=.75) and (x[8]>=0.75)) or (x[14]>=0.75)) and (x[0]>=.75) and (((x[4]>=0.75) and (x[20]>=0.75)) or ((x[12]>=0.75) and (x[8]>=0.75)) or (x[13]>=0.75) or (x[12]>=0.75)):\n",
    "                label = (\"M1M2bM2cM2d\")\n",
    "                fl += 1\n",
    "                feno += label\n",
    "                feno += '-'\n",
    "            elif ((x[5]>=0.75) or (x[6]>=0.75) or ((x[10]>=0.75) and (x[8]>=0.75)) or ((x[17]>=0.75) and (x[8]>=0.75))) and (((x[23]>=.75) and (x[8]>=0.75)) or (x[14]>=0.75)) and (((x[4]>=0.75) and (x[20]>=0.75)) or ((x[12]>=0.75) and (x[8]>=0.75)) or (x[13]>=0.75) or (x[12]>=0.75)):\n",
    "                label = (\"M1M2bM2d\")\n",
    "                fl += 1\n",
    "                feno += label\n",
    "                feno += '-'\n",
    "            elif ((x[5]>=0.75) or (x[6]>=0.75) or ((x[10]>=0.75) and (x[8]>=0.75)) or ((x[17]>=0.75) and (x[8]>=0.75))) and (((x[23]>=.75) and (x[8]>=0.75)) or (x[14]>=0.75)):\n",
    "                label = (\"M1M2b\")\n",
    "                fl += 1\n",
    "                feno += label\n",
    "                feno += '-'\n",
    "            elif ((x[5]>=0.75) or (x[6]>=0.75) or ((x[10]>=0.75) and (x[8]>=0.75)) or ((x[17]>=0.75) and (x[8]>=0.75))) and (((x[4]>=0.75) and (x[20]>=0.75)) or ((x[12]>=0.75) and (x[8]>=0.75)) or (x[13]>=0.75) or (x[12]>=0.75)):\n",
    "                label = (\"M1M2d\")\n",
    "                fl += 1\n",
    "                feno += label\n",
    "                feno += '-'\n",
    "            elif (((x[23]>=.75) and (x[8]>=0.75)) or (x[14]>=0.75)) and (((x[4]>=0.75) and (x[20]>=0.75)) or ((x[12]>=0.75) and (x[8]>=0.75)) or (x[13]>=0.75) or (x[12]>=0.75)):\n",
    "                label = (\"M2bM2d\")\n",
    "                fl += 1\n",
    "                feno += label\n",
    "                feno += '-'\n",
    "            elif ((x[23]>=.75) and (x[8]>=0.75)) or (x[14]>=0.75): \n",
    "                label = (\"M2b\")\n",
    "                fl += 1\n",
    "                feno += label\n",
    "                feno += '-'\n",
    "            elif (x[5]>=0.75) or (x[6]>=0.75) or ((x[10]>=0.5) and (x[8]>=0.75)) or ((x[17]>=0.75) and (x[8]>=0.75)): \n",
    "                label = (\"M1\")\n",
    "                fl += 1\n",
    "                feno += label\n",
    "                feno += '-'\n",
    "############\n",
    "    if (label == \"\"): label = \"NoLabel\"\n",
    " #   print(feno,fl)\n",
    "    return label"
   ]
  },
  {
   "cell_type": "code",
   "execution_count": 4,
   "metadata": {},
   "outputs": [],
   "source": [
    "def add_missing_columns_linspace(data, missing):\n",
    "    from itertools import product\n",
    "    from numpy import linspace\n",
    "    \n",
    "    jump = ceil(data.shape[0] ** (1.0 / len(missing) ))\n",
    "    table = list(linspace(  start=0, stop=1, num=jump  ))\n",
    "    table = [ list(reversed(p)) for p in product(table, repeat=len(missing)) ]\n",
    "    table = table[(len(table)-data.shape[0]-1):-1]\n",
    "    table = pd.DataFrame(table, columns=missing, index = list(data.index))\n",
    "\n",
    "    return data.join(table)\n",
    "\n"
   ]
  },
  {
   "cell_type": "code",
   "execution_count": 5,
   "metadata": {},
   "outputs": [],
   "source": [
    "def plot_points_3D(path, Ini_Sta,data, nodeA, nodeB, nodeC, filename=False):\n",
    "    fig = plt.figure()\n",
    "    ax = fig.add_subplot(111, projection='3d')\n",
    "    \n",
    "    plt.title(\"Initial State: \"+Ini_Sta)\n",
    "    ax.set_xlabel(nodeA)\n",
    "    ax.set_ylabel(nodeB)\n",
    "    ax.set_zlabel(nodeC)\n",
    "\n",
    "    handles = []\n",
    "    for label in data[\"Label\"].unique():\n",
    "        data_filtered = data[data.Label != label]\n",
    "        ax.scatter( data_filtered[nodeA], data_filtered[nodeB], data_filtered[nodeC], \n",
    "                    c=data_filtered[\"Color\"].tolist(), label=label, lw = 0 )\n",
    "        handles.append( mpatches.Patch(color=colors[label], label=label) )\n",
    "    ax.view_init(azim=-135)\n",
    "    plt.legend(handles=handles, bbox_to_anchor=(1.04,1), loc=\"upper left\")\n",
    "    if filename: plt.savefig(path+\"/svg-color/\"+filename+'-points.svg')\n",
    "    else: plt.show()"
   ]
  },
  {
   "cell_type": "code",
   "execution_count": 6,
   "metadata": {
    "scrolled": true
   },
   "outputs": [],
   "source": [
    "def plot_points_2D(path, Ini_Sta,data, nodeA, nodeB, nodeC=\"TCR\", valueC=1, filename=False):\n",
    "    fig = plt.figure()\n",
    "    plt.title(\"Initial State: \"+Ini_Sta)\n",
    "    plt.xlabel(nodeA)\n",
    "    plt.ylabel(nodeB)\n",
    "\n",
    "    handles = []\n",
    "    for label in data[\"Label\"].unique():\n",
    "#        data_filtered = data[data[nodeC] == valueC ]\n",
    "        data_filtered = data\n",
    "        plt.scatter(data_filtered[nodeA], data_filtered[nodeB],\n",
    "                    c=data_filtered[\"Color\"].tolist(), label=label )\n",
    "        handles.append( mpatches.Patch(color=colors[label], label=label) )\n",
    "    plt.legend(handles=handles, bbox_to_anchor=(1.04,1), loc=\"upper left\")\n",
    "    if filename: plt.savefig(path+\"/svg-color/\"+filename+'-points.svg')\n",
    "    else: plt.show()"
   ]
  },
  {
   "cell_type": "code",
   "execution_count": 7,
   "metadata": {},
   "outputs": [],
   "source": [
    "def plot_mesh_3D(path, Ini_Sta,data, nodeA, nodeB, nodeC=\"TCR\", filename=False):\n",
    "    data_filtered = data[[nodeA, nodeB, nodeC, \"Color\"]]\n",
    " \n",
    "    fig = plt.figure()\n",
    "    ax = fig.add_subplot(111, projection='3d')\n",
    "\n",
    "    plt.title(\"Initial State: \"+Ini_Sta)\n",
    "    ax.set_xlabel(nodeA)\n",
    "    ax.set_ylabel(nodeB)\n",
    "    ax.set_zlabel(nodeC)\n",
    "    \n",
    "    X,Y = np.meshgrid(np.arange(0,1.1,.1), np.arange(0,1.1,.1))\n",
    "\n",
    "    data_filtered = data[data[nodeA] == 0 ]\n",
    "    c = data_filtered[[nodeB, nodeC, \"Color\"]].pivot(nodeB,nodeC).to_numpy()\n",
    "    ax.plot_surface(0, Y, X, rstride=1, cstride=1, facecolors=c)\n",
    "    labels = data_filtered[\"Label\"].unique()\n",
    "    handles = legend_custom(labels)\n",
    "    plot_mesh2D_1(path=path, Ini_Sta=Ini_Sta,c=c, X=nodeB, Y=nodeC, cte=0, handles=handles, filename=file)\n",
    "\n",
    "    data_filtered = data[data[nodeB] == 0 ]\n",
    "    c = data_filtered[[nodeA, nodeC, \"Color\"]].pivot(nodeA,nodeC).to_numpy()\n",
    "    ax.plot_surface(Y, 0, X, rstride=1, cstride=1, facecolors=c)\n",
    "    labels = data_filtered[\"Label\"].unique()\n",
    "    handles = legend_custom(labels)\n",
    "    plot_mesh2D_1(path=path, Ini_Sta=Ini_Sta,c=c, X=nodeA, Y=nodeC, cte=0, handles=handles, filename=file)\n",
    "\n",
    "    data_filtered = data[data[nodeC] == 0 ]\n",
    "#    print(data_filtered, X, Y) \n",
    "    #intentar substitutyendo el 0\n",
    "    Z = np.zeros(X.shape)\n",
    "    c = data_filtered[[nodeA, nodeB, \"Color\"]].pivot(nodeA,nodeB).to_numpy()\n",
    "    ax.plot_surface(Y, X, Z, rstride=1, cstride=1, facecolors=c)\n",
    "    labels = data_filtered[\"Label\"].unique()\n",
    "    handles = legend_custom(labels)\n",
    "    plot_mesh2D_1(path=path, Ini_Sta=Ini_Sta,c=c, X=nodeA, Y=nodeB, cte=0, handles=handles, filename=file)\n",
    "    \n",
    "    data_filtered = data[data[nodeA] == 1 ]\n",
    "    c = data_filtered[[nodeB, nodeC, \"Color\"]].pivot(nodeB,nodeC).to_numpy()\n",
    "    ax.plot_surface(1, Y, X, rstride=1, cstride=1, facecolors=c)\n",
    "    labels = data_filtered[\"Label\"].unique()\n",
    "    handles = legend_custom(labels)\n",
    "    plot_mesh2D_1(path=path, Ini_Sta=Ini_Sta,c=c, X=nodeB, Y=nodeC, cte=1, handles=handles, filename=file)\n",
    "\n",
    "    data_filtered = data[data[nodeB] == 1 ]\n",
    "    c = data_filtered[[nodeA, nodeC, \"Color\"]].pivot(nodeA,nodeC).to_numpy()\n",
    "    ax.plot_surface(Y, 1, X, rstride=1, cstride=1, facecolors=c)\n",
    "    labels = data_filtered[\"Label\"].unique()\n",
    "    handles = legend_custom(labels)\n",
    "    plot_mesh2D_1(path=path, Ini_Sta=Ini_Sta,c=c, X=nodeA, Y=nodeC, cte=1, handles=handles, filename=file)\n",
    "\n",
    "    data_filtered = data[data[nodeC] == 1 ]\n",
    "    Z = np.full((X.shape), 1, dtype = float)\n",
    "    c = data_filtered[[nodeA, nodeB, \"Color\"]].pivot(nodeA,nodeB).to_numpy()\n",
    "    ax.plot_surface(Y, X, Z, rstride=1, cstride=1, facecolors=c, linewidth=1, shade=False, edgecolors='k')\n",
    "    labels = data_filtered[\"Label\"].unique()\n",
    "    handles = legend_custom(labels)\n",
    "    plot_mesh2D_1(path=path, Ini_Sta=Ini_Sta,c=c, X=nodeA, Y=nodeB, cte=1, handles=handles, filename=file)\n",
    "\n",
    "    from itertools import product, combinations\n",
    "    #draw cube\n",
    "    r = [-0.001, 0.901]\n",
    "    for s, e in combinations(np.array(list(product(r,r,r))), 2):\n",
    "        if np.sum(np.abs(s-e)) == r[1]-r[0]:\n",
    "            ax.plot3D(*zip(s,e), color=\"k\", lw=3)\n",
    "    ax.view_init(azim=-135)\n",
    "\n",
    "    if filename: plt.savefig(path+\"/svg-color/\"+filename+'-mesh.svg')\n",
    "    else: plt.show()"
   ]
  },
  {
   "cell_type": "code",
   "execution_count": 8,
   "metadata": {},
   "outputs": [],
   "source": [
    "def legend_custom(labels):\n",
    "    handles = []\n",
    "    for label in labels:\n",
    "        handles.append( mpatches.Patch(color=colors[label], label=label))        \n",
    "    return(handles)\n"
   ]
  },
  {
   "cell_type": "code",
   "execution_count": 9,
   "metadata": {},
   "outputs": [],
   "source": [
    "def plot_mesh2D_1(path, Ini_Sta, c, X, Y, cte, handles, filename=False):\n",
    "    from matplotlib.patches import Rectangle\n",
    "    #data_filtered = data[data[nodeC] == valueC ]\n",
    "    x = np.arange(0,1.1,.1)\n",
    "#    y = np.arange(0,1.1,.1)\n",
    "    XY= xy= product(x,repeat = 2)\n",
    "    h = x[-1]-x[0]\n",
    "  #  print(type(x),type(y),type(c))\n",
    " #   print(list(zip(XY, np.concatenate(c))))\n",
    "    fig = plt.figure()\n",
    "    ax = fig.add_subplot(111, aspect='equal')\n",
    "    plt.title(\"Initial State: \"+Ini_Sta)\n",
    "    plt.xlabel(X)\n",
    "    plt.ylabel(Y)\n",
    "    \n",
    "    dif = (x[2]-x[1])/2\n",
    "    plt.xlim([0-dif,1+dif])\n",
    "    plt.ylim([0-dif,1+dif])\n",
    "\n",
    "    for Z, cl in zip(XY, list(np.concatenate(c))):\n",
    "#        print(Z,cl)\n",
    "        ax.add_artist(Rectangle(xy=(Z[0]-dif, Z[1]-dif),\n",
    "                  color=cl,\n",
    "                  width=h, height=h))\n",
    "    \n",
    "    plt.legend(handles=handles, bbox_to_anchor=(1.04,1), loc=\"upper left\")\n",
    "    \n",
    "    if filename: plt.savefig(path+\"/svg-color/\"+filename+'/'+X+\"vs\"+Y+\"_\"+str(cte)+'-mesh.svg')\n",
    "    else: plt.show()"
   ]
  },
  {
   "cell_type": "code",
   "execution_count": 10,
   "metadata": {},
   "outputs": [],
   "source": [
    "def plot_mesh_2D(path, Ini_Sta, data, nodeA, nodeB, nodeC=\"TCR\",valueC=1, filename=False):\n",
    "    from matplotlib.patches import Rectangle\n",
    "#    data_filtered = data[data[nodeC] == valueC ]\n",
    "    data_filtered = data\n",
    "    x = data_filtered[nodeA]\n",
    "    y = data_filtered[nodeB]\n",
    "    c = data_filtered[\"Color\"].tolist()\n",
    "    labels = data_filtered[\"Label\"].unique()\n",
    "    handles = legend_custom(labels)\n",
    "#    print(x)\n",
    "    h = x.iloc[1]-x.iloc[0]\n",
    "    \n",
    "    fig = plt.figure()\n",
    "    ax = fig.add_subplot(111, aspect='equal')\n",
    "    plt.title(\"Initial State: \"+Ini_Sta)\n",
    "    plt.xlabel(nodeA)\n",
    "    plt.ylabel(nodeB)\n",
    "    \n",
    "    index = x.index\n",
    "    dif = (x[index[2]]-x[index[1]])/2\n",
    "    plt.xlim([0-dif,1+dif])\n",
    "    plt.ylim([0-dif,1+dif])\n",
    "\n",
    "    for x, y, c in zip(x, y, c):\n",
    "        ax.add_artist(Rectangle(xy=(x-dif, y-dif),\n",
    "                  color=c,\n",
    "                  width=h, height=h))\n",
    "    \n",
    "    plt.legend(handles=handles, bbox_to_anchor=(1.04,1), loc=\"upper left\")\n",
    "    if filename: plt.savefig(path+\"/svg-color/\"+filename+'-mesh.svg')\n",
    "    else: plt.show()"
   ]
  },
  {
   "cell_type": "code",
   "execution_count": 36,
   "metadata": {},
   "outputs": [
    {
     "name": "stdout",
     "output_type": "stream",
     "text": [
      "C:\\Users\\Lenovo\\Documents\\Python\n"
     ]
    },
    {
     "data": {
      "text/plain": [
       "[' M2d_HIF1A_ERK.csv',\n",
       " ' M2d_HIF1A_STAT3.csv',\n",
       " ' M2d_HIF1A_STAT6.csv',\n",
       " 'M2d_HIF1A_NFKB.csv',\n",
       " 'M2d_HIF1A_STAT1.csv']"
      ]
     },
     "execution_count": 36,
     "metadata": {},
     "output_type": "execute_result"
    }
   ],
   "source": [
    "path = os.getcwd()\n",
    "print(path)\n",
    "#folder = \"Results-M1\"\n",
    "folder = \"Results-M2d\"\n",
    "path = path+\"/\"+folder\n",
    "#path = os.getcwd()\n",
    "os.listdir(path+\"/csv-clean/\")"
   ]
  },
  {
   "cell_type": "code",
   "execution_count": 45,
   "metadata": {},
   "outputs": [
    {
     "name": "stdout",
     "output_type": "stream",
     "text": [
      "M2d_HIF1A_STAT1.csv\n"
     ]
    }
   ],
   "source": [
    "a = os.listdir(path+\"/csv-clean/\")[4]\n",
    "for f in [a]: \n",
    "    print(f)"
   ]
  },
  {
   "cell_type": "code",
   "execution_count": 46,
   "metadata": {
    "scrolled": true
   },
   "outputs": [
    {
     "name": "stdout",
     "output_type": "stream",
     "text": [
      "M2d HIF1A STAT1 TCR\n"
     ]
    },
    {
     "name": "stderr",
     "output_type": "stream",
     "text": [
      "C:\\Users\\Lenovo\\AppData\\Local\\Temp\\ipykernel_11840\\485436708.py:21: FutureWarning: In a future version of pandas all arguments of DataFrame.drop except for the argument 'labels' will be keyword-only.\n",
      "  data = data.drop([\"Sum\",\"Label\"], 1)\n"
     ]
    },
    {
     "data": {
      "image/png": "[encoded data removed]",
      "text/plain": [
       "<Figure size 432x288 with 1 Axes>"
      ]
     },
     "metadata": {
      "needs_background": "light"
     },
     "output_type": "display_data"
    },
    {
     "data": {
      "image/png": "[encoded data removed]",
      "text/plain": [
       "<Figure size 432x288 with 1 Axes>"
      ]
     },
     "metadata": {
      "needs_background": "light"
     },
     "output_type": "display_data"
    }
   ],
   "source": [
    "for file in [a]:\n",
    "\n",
    "    data = pd.read_csv(path+\"/csv-clean/\" + file, index_col=0)\n",
    "    \n",
    "    file = file.replace(\".csv\",\"\")\n",
    "    ## folder to save figures\n",
    "    if not os.path.exists(path+\"/svg-color/\"+file):\n",
    "        os.mkdir(path+\"/svg-color/\"+file)\n",
    "    \n",
    "    Ini_Sta = file.split(\"_\")[0]\n",
    "    nodeA = file.split(\"_\")[1]\n",
    "    nodeB = file.split(\"_\")[2]\n",
    "    try: nodeC = file.split(\"_\")[3]\n",
    "    except: nodeC = \"TCR\"\n",
    "    #Check if nodes in header exist in df\n",
    "    print(Ini_Sta,nodeA, nodeB, nodeC)\n",
    "    #missing = [n for n in [nodeA, nodeB, nodeC] if n not in data.columns]\n",
    "    missing = [n for n in [nodeA, nodeB, nodeC] if n not in data.columns]\n",
    "    if len(missing) > 0:\n",
    "        data = add_missing_columns_linspace(data, missing)\n",
    "    data = data.drop([\"Sum\",\"Label\"], 1)\n",
    "    data[\"Sum\"] = data.sum(axis=1)\n",
    "    data[\"Label\"] = data.apply(labelState, axis=1)\n",
    "    data[\"Color\"] = data[\"Label\"].map(colors)\n",
    "    if nodeC == \"TCR\": #2D graph\n",
    "        plot_points_2D(path, Ini_Sta, data, nodeA, nodeB, nodeC, filename=file)\n",
    "        plot_mesh_2D(path, Ini_Sta, data, nodeA, nodeB, nodeC, filename=file)\n",
    "    \n",
    "    else: #3D graph or die\n",
    "        plot_points_3D(path, Ini_Sta,data, nodeA, nodeB, nodeC, filename=file)\n",
    "        plot_mesh_3D(path, Ini_Sta,data, nodeA, nodeB, nodeC, filename=file)"
   ]
  },
  {
   "cell_type": "code",
   "execution_count": null,
   "metadata": {},
   "outputs": [],
   "source": []
  }
 ],
 "metadata": {
  "kernelspec": {
   "display_name": "Python 3 (ipykernel)",
   "language": "python",
   "name": "python3"
  },
  "language_info": {
   "codemirror_mode": {
    "name": "ipython",
    "version": 3
   },
   "file_extension": ".py",
   "mimetype": "text/x-python",
   "name": "python",
   "nbconvert_exporter": "python",
   "pygments_lexer": "ipython3",
   "version": "3.8.6"
  }
 },
 "nbformat": 4,
 "nbformat_minor": 4
}
